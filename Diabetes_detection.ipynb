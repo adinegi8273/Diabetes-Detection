{
  "nbformat": 4,
  "nbformat_minor": 0,
  "metadata": {
    "colab": {
      "provenance": []
    },
    "kernelspec": {
      "name": "python3",
      "display_name": "Python 3"
    },
    "language_info": {
      "name": "python"
    }
  },
  "cells": [
    {
      "cell_type": "markdown",
      "source": [
        "Problem Statement - In this problem we have been given dataset having data of 10,000 entries and 21 columns featuring independent variables such as person's sex, age, BMI, ethinicity, blood pressure level, cholesterol level, physical activity, alcohol consumption, etc to predict that whether that person is having a family history of diabetes or not."
      ],
      "metadata": {
        "id": "eBJiRQiTxBcL"
      }
    },
    {
      "cell_type": "markdown",
      "source": [
        "1.Importing the necessary libararies"
      ],
      "metadata": {
        "id": "BM6sO79d0Dfc"
      }
    },
    {
      "cell_type": "code",
      "execution_count": 4,
      "metadata": {
        "id": "ACYoVE8wr3pU"
      },
      "outputs": [],
      "source": [
        "import pandas as pd\n",
        "import numpy as np\n",
        "import matplotlib.pyplot as plt;\n",
        "import sklearn as sk"
      ]
    },
    {
      "cell_type": "code",
      "source": [
        "dataset = pd.read_csv('Diabetes dataset.csv')"
      ],
      "metadata": {
        "id": "urs79NrlvWA0"
      },
      "execution_count": 5,
      "outputs": []
    },
    {
      "cell_type": "code",
      "source": [
        "#printing the head of the dataset for viewing the features\n",
        "dataset.head()"
      ],
      "metadata": {
        "colab": {
          "base_uri": "https://localhost:8080/",
          "height": 272
        },
        "id": "mb1eETOXvcGs",
        "outputId": "f7ba02e3-b2e4-4c29-e185-04ce595859a1"
      },
      "execution_count": 6,
      "outputs": [
        {
          "output_type": "execute_result",
          "data": {
            "text/plain": [
              "   Unnamed: 0  Age     Sex Ethnicity   BMI  Waist_Circumference  \\\n",
              "0           0   58  Female     White  35.8                 83.4   \n",
              "1           1   48    Male     Asian  24.1                 71.4   \n",
              "2           2   34  Female     Black  25.0                113.8   \n",
              "3           3   62    Male     Asian  32.7                100.4   \n",
              "4           4   27  Female     Asian  33.5                110.8   \n",
              "\n",
              "   Fasting_Blood_Glucose  HbA1c  Blood_Pressure_Systolic  \\\n",
              "0                  123.9   10.9                      152   \n",
              "1                  183.7   12.8                      103   \n",
              "2                  142.0   14.5                      179   \n",
              "3                  167.4    8.8                      176   \n",
              "4                  146.4    7.1                      122   \n",
              "\n",
              "   Blood_Pressure_Diastolic  ...  Cholesterol_HDL  Cholesterol_LDL   GGT  \\\n",
              "0                       114  ...             50.2             99.2  37.5   \n",
              "1                        91  ...             62.0            146.4  88.5   \n",
              "2                       104  ...             32.1            164.1  56.2   \n",
              "3                       118  ...             41.1             84.0  34.4   \n",
              "4                        97  ...             53.9             92.8  81.9   \n",
              "\n",
              "   Serum_Urate  Physical_Activity_Level Dietary_Intake_Calories  \\\n",
              "0          7.2                 Moderate                    1538   \n",
              "1          6.1                 Moderate                    2653   \n",
              "2          6.9                      Low                    1684   \n",
              "3          5.4                      Low                    3796   \n",
              "4          7.4                 Moderate                    3161   \n",
              "\n",
              "   Alcohol_Consumption Smoking_Status Family_History_of_Diabetes  \\\n",
              "0             Moderate          Never                          0   \n",
              "1             Moderate        Current                          0   \n",
              "2                Heavy         Former                          1   \n",
              "3             Moderate          Never                          1   \n",
              "4                Heavy        Current                          0   \n",
              "\n",
              "   Previous_Gestational_Diabetes  \n",
              "0                              1  \n",
              "1                              1  \n",
              "2                              0  \n",
              "3                              0  \n",
              "4                              0  \n",
              "\n",
              "[5 rows x 21 columns]"
            ],
            "text/html": [
              "\n",
              "  <div id=\"df-cf3e9ee9-7424-4482-b718-decee4c8d4a1\" class=\"colab-df-container\">\n",
              "    <div>\n",
              "<style scoped>\n",
              "    .dataframe tbody tr th:only-of-type {\n",
              "        vertical-align: middle;\n",
              "    }\n",
              "\n",
              "    .dataframe tbody tr th {\n",
              "        vertical-align: top;\n",
              "    }\n",
              "\n",
              "    .dataframe thead th {\n",
              "        text-align: right;\n",
              "    }\n",
              "</style>\n",
              "<table border=\"1\" class=\"dataframe\">\n",
              "  <thead>\n",
              "    <tr style=\"text-align: right;\">\n",
              "      <th></th>\n",
              "      <th>Unnamed: 0</th>\n",
              "      <th>Age</th>\n",
              "      <th>Sex</th>\n",
              "      <th>Ethnicity</th>\n",
              "      <th>BMI</th>\n",
              "      <th>Waist_Circumference</th>\n",
              "      <th>Fasting_Blood_Glucose</th>\n",
              "      <th>HbA1c</th>\n",
              "      <th>Blood_Pressure_Systolic</th>\n",
              "      <th>Blood_Pressure_Diastolic</th>\n",
              "      <th>...</th>\n",
              "      <th>Cholesterol_HDL</th>\n",
              "      <th>Cholesterol_LDL</th>\n",
              "      <th>GGT</th>\n",
              "      <th>Serum_Urate</th>\n",
              "      <th>Physical_Activity_Level</th>\n",
              "      <th>Dietary_Intake_Calories</th>\n",
              "      <th>Alcohol_Consumption</th>\n",
              "      <th>Smoking_Status</th>\n",
              "      <th>Family_History_of_Diabetes</th>\n",
              "      <th>Previous_Gestational_Diabetes</th>\n",
              "    </tr>\n",
              "  </thead>\n",
              "  <tbody>\n",
              "    <tr>\n",
              "      <th>0</th>\n",
              "      <td>0</td>\n",
              "      <td>58</td>\n",
              "      <td>Female</td>\n",
              "      <td>White</td>\n",
              "      <td>35.8</td>\n",
              "      <td>83.4</td>\n",
              "      <td>123.9</td>\n",
              "      <td>10.9</td>\n",
              "      <td>152</td>\n",
              "      <td>114</td>\n",
              "      <td>...</td>\n",
              "      <td>50.2</td>\n",
              "      <td>99.2</td>\n",
              "      <td>37.5</td>\n",
              "      <td>7.2</td>\n",
              "      <td>Moderate</td>\n",
              "      <td>1538</td>\n",
              "      <td>Moderate</td>\n",
              "      <td>Never</td>\n",
              "      <td>0</td>\n",
              "      <td>1</td>\n",
              "    </tr>\n",
              "    <tr>\n",
              "      <th>1</th>\n",
              "      <td>1</td>\n",
              "      <td>48</td>\n",
              "      <td>Male</td>\n",
              "      <td>Asian</td>\n",
              "      <td>24.1</td>\n",
              "      <td>71.4</td>\n",
              "      <td>183.7</td>\n",
              "      <td>12.8</td>\n",
              "      <td>103</td>\n",
              "      <td>91</td>\n",
              "      <td>...</td>\n",
              "      <td>62.0</td>\n",
              "      <td>146.4</td>\n",
              "      <td>88.5</td>\n",
              "      <td>6.1</td>\n",
              "      <td>Moderate</td>\n",
              "      <td>2653</td>\n",
              "      <td>Moderate</td>\n",
              "      <td>Current</td>\n",
              "      <td>0</td>\n",
              "      <td>1</td>\n",
              "    </tr>\n",
              "    <tr>\n",
              "      <th>2</th>\n",
              "      <td>2</td>\n",
              "      <td>34</td>\n",
              "      <td>Female</td>\n",
              "      <td>Black</td>\n",
              "      <td>25.0</td>\n",
              "      <td>113.8</td>\n",
              "      <td>142.0</td>\n",
              "      <td>14.5</td>\n",
              "      <td>179</td>\n",
              "      <td>104</td>\n",
              "      <td>...</td>\n",
              "      <td>32.1</td>\n",
              "      <td>164.1</td>\n",
              "      <td>56.2</td>\n",
              "      <td>6.9</td>\n",
              "      <td>Low</td>\n",
              "      <td>1684</td>\n",
              "      <td>Heavy</td>\n",
              "      <td>Former</td>\n",
              "      <td>1</td>\n",
              "      <td>0</td>\n",
              "    </tr>\n",
              "    <tr>\n",
              "      <th>3</th>\n",
              "      <td>3</td>\n",
              "      <td>62</td>\n",
              "      <td>Male</td>\n",
              "      <td>Asian</td>\n",
              "      <td>32.7</td>\n",
              "      <td>100.4</td>\n",
              "      <td>167.4</td>\n",
              "      <td>8.8</td>\n",
              "      <td>176</td>\n",
              "      <td>118</td>\n",
              "      <td>...</td>\n",
              "      <td>41.1</td>\n",
              "      <td>84.0</td>\n",
              "      <td>34.4</td>\n",
              "      <td>5.4</td>\n",
              "      <td>Low</td>\n",
              "      <td>3796</td>\n",
              "      <td>Moderate</td>\n",
              "      <td>Never</td>\n",
              "      <td>1</td>\n",
              "      <td>0</td>\n",
              "    </tr>\n",
              "    <tr>\n",
              "      <th>4</th>\n",
              "      <td>4</td>\n",
              "      <td>27</td>\n",
              "      <td>Female</td>\n",
              "      <td>Asian</td>\n",
              "      <td>33.5</td>\n",
              "      <td>110.8</td>\n",
              "      <td>146.4</td>\n",
              "      <td>7.1</td>\n",
              "      <td>122</td>\n",
              "      <td>97</td>\n",
              "      <td>...</td>\n",
              "      <td>53.9</td>\n",
              "      <td>92.8</td>\n",
              "      <td>81.9</td>\n",
              "      <td>7.4</td>\n",
              "      <td>Moderate</td>\n",
              "      <td>3161</td>\n",
              "      <td>Heavy</td>\n",
              "      <td>Current</td>\n",
              "      <td>0</td>\n",
              "      <td>0</td>\n",
              "    </tr>\n",
              "  </tbody>\n",
              "</table>\n",
              "<p>5 rows × 21 columns</p>\n",
              "</div>\n",
              "    <div class=\"colab-df-buttons\">\n",
              "\n",
              "  <div class=\"colab-df-container\">\n",
              "    <button class=\"colab-df-convert\" onclick=\"convertToInteractive('df-cf3e9ee9-7424-4482-b718-decee4c8d4a1')\"\n",
              "            title=\"Convert this dataframe to an interactive table.\"\n",
              "            style=\"display:none;\">\n",
              "\n",
              "  <svg xmlns=\"http://www.w3.org/2000/svg\" height=\"24px\" viewBox=\"0 -960 960 960\">\n",
              "    <path d=\"M120-120v-720h720v720H120Zm60-500h600v-160H180v160Zm220 220h160v-160H400v160Zm0 220h160v-160H400v160ZM180-400h160v-160H180v160Zm440 0h160v-160H620v160ZM180-180h160v-160H180v160Zm440 0h160v-160H620v160Z\"/>\n",
              "  </svg>\n",
              "    </button>\n",
              "\n",
              "  <style>\n",
              "    .colab-df-container {\n",
              "      display:flex;\n",
              "      gap: 12px;\n",
              "    }\n",
              "\n",
              "    .colab-df-convert {\n",
              "      background-color: #E8F0FE;\n",
              "      border: none;\n",
              "      border-radius: 50%;\n",
              "      cursor: pointer;\n",
              "      display: none;\n",
              "      fill: #1967D2;\n",
              "      height: 32px;\n",
              "      padding: 0 0 0 0;\n",
              "      width: 32px;\n",
              "    }\n",
              "\n",
              "    .colab-df-convert:hover {\n",
              "      background-color: #E2EBFA;\n",
              "      box-shadow: 0px 1px 2px rgba(60, 64, 67, 0.3), 0px 1px 3px 1px rgba(60, 64, 67, 0.15);\n",
              "      fill: #174EA6;\n",
              "    }\n",
              "\n",
              "    .colab-df-buttons div {\n",
              "      margin-bottom: 4px;\n",
              "    }\n",
              "\n",
              "    [theme=dark] .colab-df-convert {\n",
              "      background-color: #3B4455;\n",
              "      fill: #D2E3FC;\n",
              "    }\n",
              "\n",
              "    [theme=dark] .colab-df-convert:hover {\n",
              "      background-color: #434B5C;\n",
              "      box-shadow: 0px 1px 3px 1px rgba(0, 0, 0, 0.15);\n",
              "      filter: drop-shadow(0px 1px 2px rgba(0, 0, 0, 0.3));\n",
              "      fill: #FFFFFF;\n",
              "    }\n",
              "  </style>\n",
              "\n",
              "    <script>\n",
              "      const buttonEl =\n",
              "        document.querySelector('#df-cf3e9ee9-7424-4482-b718-decee4c8d4a1 button.colab-df-convert');\n",
              "      buttonEl.style.display =\n",
              "        google.colab.kernel.accessAllowed ? 'block' : 'none';\n",
              "\n",
              "      async function convertToInteractive(key) {\n",
              "        const element = document.querySelector('#df-cf3e9ee9-7424-4482-b718-decee4c8d4a1');\n",
              "        const dataTable =\n",
              "          await google.colab.kernel.invokeFunction('convertToInteractive',\n",
              "                                                    [key], {});\n",
              "        if (!dataTable) return;\n",
              "\n",
              "        const docLinkHtml = 'Like what you see? Visit the ' +\n",
              "          '<a target=\"_blank\" href=https://colab.research.google.com/notebooks/data_table.ipynb>data table notebook</a>'\n",
              "          + ' to learn more about interactive tables.';\n",
              "        element.innerHTML = '';\n",
              "        dataTable['output_type'] = 'display_data';\n",
              "        await google.colab.output.renderOutput(dataTable, element);\n",
              "        const docLink = document.createElement('div');\n",
              "        docLink.innerHTML = docLinkHtml;\n",
              "        element.appendChild(docLink);\n",
              "      }\n",
              "    </script>\n",
              "  </div>\n",
              "\n",
              "\n",
              "    <div id=\"df-b8011055-4723-4172-a8b6-c11c40eb7a4c\">\n",
              "      <button class=\"colab-df-quickchart\" onclick=\"quickchart('df-b8011055-4723-4172-a8b6-c11c40eb7a4c')\"\n",
              "                title=\"Suggest charts\"\n",
              "                style=\"display:none;\">\n",
              "\n",
              "<svg xmlns=\"http://www.w3.org/2000/svg\" height=\"24px\"viewBox=\"0 0 24 24\"\n",
              "     width=\"24px\">\n",
              "    <g>\n",
              "        <path d=\"M19 3H5c-1.1 0-2 .9-2 2v14c0 1.1.9 2 2 2h14c1.1 0 2-.9 2-2V5c0-1.1-.9-2-2-2zM9 17H7v-7h2v7zm4 0h-2V7h2v10zm4 0h-2v-4h2v4z\"/>\n",
              "    </g>\n",
              "</svg>\n",
              "      </button>\n",
              "\n",
              "<style>\n",
              "  .colab-df-quickchart {\n",
              "      --bg-color: #E8F0FE;\n",
              "      --fill-color: #1967D2;\n",
              "      --hover-bg-color: #E2EBFA;\n",
              "      --hover-fill-color: #174EA6;\n",
              "      --disabled-fill-color: #AAA;\n",
              "      --disabled-bg-color: #DDD;\n",
              "  }\n",
              "\n",
              "  [theme=dark] .colab-df-quickchart {\n",
              "      --bg-color: #3B4455;\n",
              "      --fill-color: #D2E3FC;\n",
              "      --hover-bg-color: #434B5C;\n",
              "      --hover-fill-color: #FFFFFF;\n",
              "      --disabled-bg-color: #3B4455;\n",
              "      --disabled-fill-color: #666;\n",
              "  }\n",
              "\n",
              "  .colab-df-quickchart {\n",
              "    background-color: var(--bg-color);\n",
              "    border: none;\n",
              "    border-radius: 50%;\n",
              "    cursor: pointer;\n",
              "    display: none;\n",
              "    fill: var(--fill-color);\n",
              "    height: 32px;\n",
              "    padding: 0;\n",
              "    width: 32px;\n",
              "  }\n",
              "\n",
              "  .colab-df-quickchart:hover {\n",
              "    background-color: var(--hover-bg-color);\n",
              "    box-shadow: 0 1px 2px rgba(60, 64, 67, 0.3), 0 1px 3px 1px rgba(60, 64, 67, 0.15);\n",
              "    fill: var(--button-hover-fill-color);\n",
              "  }\n",
              "\n",
              "  .colab-df-quickchart-complete:disabled,\n",
              "  .colab-df-quickchart-complete:disabled:hover {\n",
              "    background-color: var(--disabled-bg-color);\n",
              "    fill: var(--disabled-fill-color);\n",
              "    box-shadow: none;\n",
              "  }\n",
              "\n",
              "  .colab-df-spinner {\n",
              "    border: 2px solid var(--fill-color);\n",
              "    border-color: transparent;\n",
              "    border-bottom-color: var(--fill-color);\n",
              "    animation:\n",
              "      spin 1s steps(1) infinite;\n",
              "  }\n",
              "\n",
              "  @keyframes spin {\n",
              "    0% {\n",
              "      border-color: transparent;\n",
              "      border-bottom-color: var(--fill-color);\n",
              "      border-left-color: var(--fill-color);\n",
              "    }\n",
              "    20% {\n",
              "      border-color: transparent;\n",
              "      border-left-color: var(--fill-color);\n",
              "      border-top-color: var(--fill-color);\n",
              "    }\n",
              "    30% {\n",
              "      border-color: transparent;\n",
              "      border-left-color: var(--fill-color);\n",
              "      border-top-color: var(--fill-color);\n",
              "      border-right-color: var(--fill-color);\n",
              "    }\n",
              "    40% {\n",
              "      border-color: transparent;\n",
              "      border-right-color: var(--fill-color);\n",
              "      border-top-color: var(--fill-color);\n",
              "    }\n",
              "    60% {\n",
              "      border-color: transparent;\n",
              "      border-right-color: var(--fill-color);\n",
              "    }\n",
              "    80% {\n",
              "      border-color: transparent;\n",
              "      border-right-color: var(--fill-color);\n",
              "      border-bottom-color: var(--fill-color);\n",
              "    }\n",
              "    90% {\n",
              "      border-color: transparent;\n",
              "      border-bottom-color: var(--fill-color);\n",
              "    }\n",
              "  }\n",
              "</style>\n",
              "\n",
              "      <script>\n",
              "        async function quickchart(key) {\n",
              "          const quickchartButtonEl =\n",
              "            document.querySelector('#' + key + ' button');\n",
              "          quickchartButtonEl.disabled = true;  // To prevent multiple clicks.\n",
              "          quickchartButtonEl.classList.add('colab-df-spinner');\n",
              "          try {\n",
              "            const charts = await google.colab.kernel.invokeFunction(\n",
              "                'suggestCharts', [key], {});\n",
              "          } catch (error) {\n",
              "            console.error('Error during call to suggestCharts:', error);\n",
              "          }\n",
              "          quickchartButtonEl.classList.remove('colab-df-spinner');\n",
              "          quickchartButtonEl.classList.add('colab-df-quickchart-complete');\n",
              "        }\n",
              "        (() => {\n",
              "          let quickchartButtonEl =\n",
              "            document.querySelector('#df-b8011055-4723-4172-a8b6-c11c40eb7a4c button');\n",
              "          quickchartButtonEl.style.display =\n",
              "            google.colab.kernel.accessAllowed ? 'block' : 'none';\n",
              "        })();\n",
              "      </script>\n",
              "    </div>\n",
              "\n",
              "    </div>\n",
              "  </div>\n"
            ],
            "application/vnd.google.colaboratory.intrinsic+json": {
              "type": "dataframe",
              "variable_name": "dataset"
            }
          },
          "metadata": {},
          "execution_count": 6
        }
      ]
    },
    {
      "cell_type": "code",
      "source": [
        "#getting the matrx of features and the dependent variable vector\n",
        "X = dataset.iloc[:,1:-2].values\n",
        "y = dataset.iloc[:,-2:].values"
      ],
      "metadata": {
        "id": "DZLLj7OYvmnW"
      },
      "execution_count": 7,
      "outputs": []
    },
    {
      "cell_type": "code",
      "source": [
        "#printing the matrix of features\n",
        "print(X)"
      ],
      "metadata": {
        "colab": {
          "base_uri": "https://localhost:8080/"
        },
        "id": "X70KIEkbzUpY",
        "outputId": "a4ce99ae-a9c0-4139-9d1f-8ec1c508926b"
      },
      "execution_count": 8,
      "outputs": [
        {
          "output_type": "stream",
          "name": "stdout",
          "text": [
            "[[58 'Female' 'White' ... 1538 'Moderate' 'Never']\n",
            " [48 'Male' 'Asian' ... 2653 'Moderate' 'Current']\n",
            " [34 'Female' 'Black' ... 1684 'Heavy' 'Former']\n",
            " ...\n",
            " [50 'Female' 'Asian' ... 3175 'Heavy' 'Former']\n",
            " [62 'Female' 'White' ... 3478 'Moderate' 'Never']\n",
            " [29 'Male' 'Black' ... 2918 'Heavy' 'Former']]\n"
          ]
        }
      ]
    },
    {
      "cell_type": "code",
      "source": [
        "#printing the dependent variable vector which has two things family history of diabetes and previous gestation history\n",
        "print(y)"
      ],
      "metadata": {
        "colab": {
          "base_uri": "https://localhost:8080/"
        },
        "id": "Fg7x4MH0zYpn",
        "outputId": "f95e84a4-9ec9-4485-b4e4-d85d2864f35d"
      },
      "execution_count": 9,
      "outputs": [
        {
          "output_type": "stream",
          "name": "stdout",
          "text": [
            "[[0 1]\n",
            " [0 1]\n",
            " [1 0]\n",
            " ...\n",
            " [1 1]\n",
            " [1 0]\n",
            " [1 0]]\n"
          ]
        }
      ]
    },
    {
      "cell_type": "markdown",
      "source": [
        "2. Preprocessing of data\n"
      ],
      "metadata": {
        "id": "mkhAA6jm0JYp"
      }
    },
    {
      "cell_type": "markdown",
      "source": [
        "2a. Handling missing values"
      ],
      "metadata": {
        "id": "JBciskvJ0M5f"
      }
    },
    {
      "cell_type": "code",
      "source": [
        "#counting the missing values\n",
        "df = pd.DataFrame(dataset)#converted into dataframe for counting missing values\n",
        "print(df.isnull().sum())"
      ],
      "metadata": {
        "colab": {
          "base_uri": "https://localhost:8080/"
        },
        "id": "xAu-nU7uzeNl",
        "outputId": "00b2e8b1-7fa5-46d0-927d-bc60956a66ef"
      },
      "execution_count": 10,
      "outputs": [
        {
          "output_type": "stream",
          "name": "stdout",
          "text": [
            "Unnamed: 0                          0\n",
            "Age                                 0\n",
            "Sex                                 0\n",
            "Ethnicity                           0\n",
            "BMI                                 0\n",
            "Waist_Circumference                 0\n",
            "Fasting_Blood_Glucose               0\n",
            "HbA1c                               0\n",
            "Blood_Pressure_Systolic             0\n",
            "Blood_Pressure_Diastolic            0\n",
            "Cholesterol_Total                   0\n",
            "Cholesterol_HDL                     0\n",
            "Cholesterol_LDL                     0\n",
            "GGT                                 0\n",
            "Serum_Urate                         0\n",
            "Physical_Activity_Level             0\n",
            "Dietary_Intake_Calories             0\n",
            "Alcohol_Consumption              3320\n",
            "Smoking_Status                      0\n",
            "Family_History_of_Diabetes          0\n",
            "Previous_Gestational_Diabetes       0\n",
            "dtype: int64\n"
          ]
        }
      ]
    },
    {
      "cell_type": "code",
      "source": [
        "#we can observe that alcohol consumption is having 3320 missig values\n",
        "#Since we have totalk of 10000 entries hence replacing the missing values by mode\n",
        "df['Alcohol_Consumption'].fillna(df['Alcohol_Consumption'].mode()[0], inplace=True)  # Use most frequent category"
      ],
      "metadata": {
        "colab": {
          "base_uri": "https://localhost:8080/"
        },
        "id": "RtGdm7010pd_",
        "outputId": "e76d6b60-000f-4e56-ea66-bb0930111b27"
      },
      "execution_count": 11,
      "outputs": [
        {
          "output_type": "stream",
          "name": "stderr",
          "text": [
            "<ipython-input-11-c02eaf644b7c>:3: FutureWarning: A value is trying to be set on a copy of a DataFrame or Series through chained assignment using an inplace method.\n",
            "The behavior will change in pandas 3.0. This inplace method will never work because the intermediate object on which we are setting values always behaves as a copy.\n",
            "\n",
            "For example, when doing 'df[col].method(value, inplace=True)', try using 'df.method({col: value}, inplace=True)' or df[col] = df[col].method(value) instead, to perform the operation inplace on the original object.\n",
            "\n",
            "\n",
            "  df['Alcohol_Consumption'].fillna(df['Alcohol_Consumption'].mode()[0], inplace=True)  # Use most frequent category\n"
          ]
        }
      ]
    },
    {
      "cell_type": "code",
      "source": [
        "#now missing values will be removed\n",
        "print(df.isnull().sum())"
      ],
      "metadata": {
        "colab": {
          "base_uri": "https://localhost:8080/"
        },
        "id": "B1wpf1JM1iVE",
        "outputId": "6ef14d16-cbc5-48ed-adfb-0db7fb444fbb"
      },
      "execution_count": 12,
      "outputs": [
        {
          "output_type": "stream",
          "name": "stdout",
          "text": [
            "Unnamed: 0                       0\n",
            "Age                              0\n",
            "Sex                              0\n",
            "Ethnicity                        0\n",
            "BMI                              0\n",
            "Waist_Circumference              0\n",
            "Fasting_Blood_Glucose            0\n",
            "HbA1c                            0\n",
            "Blood_Pressure_Systolic          0\n",
            "Blood_Pressure_Diastolic         0\n",
            "Cholesterol_Total                0\n",
            "Cholesterol_HDL                  0\n",
            "Cholesterol_LDL                  0\n",
            "GGT                              0\n",
            "Serum_Urate                      0\n",
            "Physical_Activity_Level          0\n",
            "Dietary_Intake_Calories          0\n",
            "Alcohol_Consumption              0\n",
            "Smoking_Status                   0\n",
            "Family_History_of_Diabetes       0\n",
            "Previous_Gestational_Diabetes    0\n",
            "dtype: int64\n"
          ]
        }
      ]
    },
    {
      "cell_type": "markdown",
      "source": [
        "2b. Encoding the categorical columns"
      ],
      "metadata": {
        "id": "uRE6UR0jnEq_"
      }
    },
    {
      "cell_type": "code",
      "source": [
        "#applying one hot encoding scheme to encode the independent variables such as SEX, ETHINICITY, ALCOHOL CONSUMPTION, SMOKING STATUS,PHYSICAL ACTIVITY LEVEL\n",
        "categorical_columns = [\n",
        "    'Sex',\n",
        "    'Ethnicity',\n",
        "    'Physical_Activity_Level',\n",
        "    'Alcohol_Consumption',\n",
        "    'Smoking_Status'\n",
        "]\n",
        "\n",
        "# Apply one-hot encoding\n",
        "df_encoded = pd.get_dummies(df, columns=categorical_columns, drop_first=True)"
      ],
      "metadata": {
        "id": "OWtd61k-1lmI"
      },
      "execution_count": 13,
      "outputs": []
    },
    {
      "cell_type": "code",
      "source": [
        "df_encoded.head()#printing the updated encoded values\n",
        "X = np.array(df_encoded)\n",
        "print(X)"
      ],
      "metadata": {
        "colab": {
          "base_uri": "https://localhost:8080/"
        },
        "id": "FiF0dH5XnyZH",
        "outputId": "f4c73b51-7a75-4dd3-8895-6eb4d2e79a86"
      },
      "execution_count": 14,
      "outputs": [
        {
          "output_type": "stream",
          "name": "stdout",
          "text": [
            "[[0 58 35.8 ... True False True]\n",
            " [1 48 24.1 ... True False False]\n",
            " [2 34 25.0 ... False True False]\n",
            " ...\n",
            " [9997 50 29.0 ... False True False]\n",
            " [9998 62 27.3 ... True False True]\n",
            " [9999 29 20.6 ... False True False]]\n"
          ]
        }
      ]
    },
    {
      "cell_type": "markdown",
      "source": [
        "3. Splitting our dataset into Training and Testing sets"
      ],
      "metadata": {
        "id": "DryhlJNH0BVw"
      }
    },
    {
      "cell_type": "code",
      "source": [
        "from sklearn.model_selection import train_test_split\n",
        "X_train, X_test, y_train, y_test = train_test_split(X, y, test_size = 0.2,random_state = 0)"
      ],
      "metadata": {
        "id": "VrOFBDsyn7xY"
      },
      "execution_count": 20,
      "outputs": []
    },
    {
      "cell_type": "markdown",
      "source": [
        "4. Traning the RandomForests, XGBoost, Neural Network model over the training set"
      ],
      "metadata": {
        "id": "ah5prIFN12I0"
      }
    },
    {
      "cell_type": "code",
      "source": [
        "# 1. Import libraries\n",
        "import tensorflow as tf\n",
        "from tensorflow import keras\n",
        "from tensorflow.keras.models import Sequential\n",
        "from tensorflow.keras.layers import Dense\n",
        "from sklearn.model_selection import train_test_split\n",
        "from sklearn.preprocessing import LabelEncoder, StandardScaler\n",
        "\n",
        "# 2. Prepare your data\n",
        "# Assuming 'df' is your DataFrame and 'Family_History_of_Diabetes' is the target\n",
        "\n",
        "# Encode categorical variables if not already encoded\n",
        "# (Skip this if you already encoded them earlier)\n",
        "\n",
        "# Example:\n",
        "# label_encoders = {}\n",
        "# for column in ['Physical_Activity_Level', 'Alcohol_Consumption', 'Smoking_Status']:\n",
        "#     le = LabelEncoder()\n",
        "#     df[column] = le.fit_transform(df[column])\n",
        "#     label_encoders[column] = le\n",
        "\n",
        "# Scaling numerical features if not already done\n",
        "# scaler = StandardScaler()\n",
        "# numerical_cols = ['Age', 'BMI', 'Fasting_Blood_Glucose']\n",
        "# df[numerical_cols] = scaler.fit_transform(df[numerical_cols])\n",
        "\n",
        "df = df_encoded\n",
        "# 3. Split into features and labels\n",
        "X = df.drop('Family_History_of_Diabetes', axis=1)\n",
        "y = df['Family_History_of_Diabetes'].values.ravel()\n",
        "\n",
        "# 4. Split into training and testing\n",
        "X_train, X_test, y_train, y_test = train_test_split(X, y, test_size=0.3, random_state=42)\n",
        "\n",
        "# 5. Build the neural network model\n",
        "model = Sequential()\n",
        "\n",
        "# Input + first hidden layer\n",
        "model.add(Dense(64, activation='relu', input_dim=X_train.shape[1]))\n",
        "\n",
        "# Second hidden layer\n",
        "model.add(Dense(32, activation='relu'))\n",
        "\n",
        "# Output layer\n",
        "model.add(Dense(1, activation='sigmoid'))\n",
        "\n",
        "# 6. Compile the model\n",
        "model.compile(optimizer='adam',\n",
        "              loss='binary_crossentropy',\n",
        "              metrics=['accuracy'])\n",
        "\n",
        "# 7. Train the model\n",
        "history = model.fit(X_train, y_train,epochs=50,batch_size=32,validation_data=(X_test, y_test))\n",
        "\n",
        "# 8. Evaluate the model\n",
        "loss, accuracy = model.evaluate(X_test, y_test)\n",
        "print(f\"Test Accuracy: {accuracy * 100:.2f}%\")\n"
      ],
      "metadata": {
        "colab": {
          "base_uri": "https://localhost:8080/"
        },
        "id": "CLXYiFDv0VrR",
        "outputId": "825828de-de90-4190-e460-3ee16f716ca4"
      },
      "execution_count": 26,
      "outputs": [
        {
          "output_type": "stream",
          "name": "stderr",
          "text": [
            "/usr/local/lib/python3.11/dist-packages/keras/src/layers/core/dense.py:87: UserWarning: Do not pass an `input_shape`/`input_dim` argument to a layer. When using Sequential models, prefer using an `Input(shape)` object as the first layer in the model instead.\n",
            "  super().__init__(activity_regularizer=activity_regularizer, **kwargs)\n"
          ]
        },
        {
          "output_type": "stream",
          "name": "stdout",
          "text": [
            "Epoch 1/50\n",
            "\u001b[1m219/219\u001b[0m \u001b[32m━━━━━━━━━━━━━━━━━━━━\u001b[0m\u001b[37m\u001b[0m \u001b[1m4s\u001b[0m 5ms/step - accuracy: 0.5087 - loss: 19.6497 - val_accuracy: 0.4963 - val_loss: 4.7190\n",
            "Epoch 2/50\n",
            "\u001b[1m219/219\u001b[0m \u001b[32m━━━━━━━━━━━━━━━━━━━━\u001b[0m\u001b[37m\u001b[0m \u001b[1m1s\u001b[0m 4ms/step - accuracy: 0.5018 - loss: 5.2753 - val_accuracy: 0.5040 - val_loss: 6.4809\n",
            "Epoch 3/50\n",
            "\u001b[1m219/219\u001b[0m \u001b[32m━━━━━━━━━━━━━━━━━━━━\u001b[0m\u001b[37m\u001b[0m \u001b[1m1s\u001b[0m 4ms/step - accuracy: 0.4932 - loss: 7.5136 - val_accuracy: 0.5083 - val_loss: 2.0329\n",
            "Epoch 4/50\n",
            "\u001b[1m219/219\u001b[0m \u001b[32m━━━━━━━━━━━━━━━━━━━━\u001b[0m\u001b[37m\u001b[0m \u001b[1m1s\u001b[0m 3ms/step - accuracy: 0.4951 - loss: 3.9390 - val_accuracy: 0.5063 - val_loss: 3.4495\n",
            "Epoch 5/50\n",
            "\u001b[1m219/219\u001b[0m \u001b[32m━━━━━━━━━━━━━━━━━━━━\u001b[0m\u001b[37m\u001b[0m \u001b[1m2s\u001b[0m 5ms/step - accuracy: 0.5038 - loss: 3.9306 - val_accuracy: 0.5033 - val_loss: 5.6197\n",
            "Epoch 6/50\n",
            "\u001b[1m219/219\u001b[0m \u001b[32m━━━━━━━━━━━━━━━━━━━━\u001b[0m\u001b[37m\u001b[0m \u001b[1m1s\u001b[0m 4ms/step - accuracy: 0.5007 - loss: 3.1702 - val_accuracy: 0.4950 - val_loss: 8.0168\n",
            "Epoch 7/50\n",
            "\u001b[1m219/219\u001b[0m \u001b[32m━━━━━━━━━━━━━━━━━━━━\u001b[0m\u001b[37m\u001b[0m \u001b[1m1s\u001b[0m 4ms/step - accuracy: 0.4908 - loss: 5.2103 - val_accuracy: 0.4967 - val_loss: 4.2461\n",
            "Epoch 8/50\n",
            "\u001b[1m219/219\u001b[0m \u001b[32m━━━━━━━━━━━━━━━━━━━━\u001b[0m\u001b[37m\u001b[0m \u001b[1m1s\u001b[0m 5ms/step - accuracy: 0.5117 - loss: 3.1725 - val_accuracy: 0.4973 - val_loss: 3.9569\n",
            "Epoch 9/50\n",
            "\u001b[1m219/219\u001b[0m \u001b[32m━━━━━━━━━━━━━━━━━━━━\u001b[0m\u001b[37m\u001b[0m \u001b[1m1s\u001b[0m 6ms/step - accuracy: 0.5140 - loss: 3.7778 - val_accuracy: 0.4900 - val_loss: 1.1685\n",
            "Epoch 10/50\n",
            "\u001b[1m219/219\u001b[0m \u001b[32m━━━━━━━━━━━━━━━━━━━━\u001b[0m\u001b[37m\u001b[0m \u001b[1m2s\u001b[0m 5ms/step - accuracy: 0.5050 - loss: 4.1142 - val_accuracy: 0.5000 - val_loss: 1.2590\n",
            "Epoch 11/50\n",
            "\u001b[1m219/219\u001b[0m \u001b[32m━━━━━━━━━━━━━━━━━━━━\u001b[0m\u001b[37m\u001b[0m \u001b[1m1s\u001b[0m 4ms/step - accuracy: 0.5109 - loss: 2.7994 - val_accuracy: 0.5080 - val_loss: 1.6268\n",
            "Epoch 12/50\n",
            "\u001b[1m219/219\u001b[0m \u001b[32m━━━━━━━━━━━━━━━━━━━━\u001b[0m\u001b[37m\u001b[0m \u001b[1m1s\u001b[0m 4ms/step - accuracy: 0.5182 - loss: 2.0175 - val_accuracy: 0.4963 - val_loss: 1.6294\n",
            "Epoch 13/50\n",
            "\u001b[1m219/219\u001b[0m \u001b[32m━━━━━━━━━━━━━━━━━━━━\u001b[0m\u001b[37m\u001b[0m \u001b[1m1s\u001b[0m 4ms/step - accuracy: 0.5174 - loss: 1.7831 - val_accuracy: 0.5023 - val_loss: 1.3016\n",
            "Epoch 14/50\n",
            "\u001b[1m219/219\u001b[0m \u001b[32m━━━━━━━━━━━━━━━━━━━━\u001b[0m\u001b[37m\u001b[0m \u001b[1m1s\u001b[0m 5ms/step - accuracy: 0.5164 - loss: 1.6037 - val_accuracy: 0.4953 - val_loss: 2.4973\n",
            "Epoch 15/50\n",
            "\u001b[1m219/219\u001b[0m \u001b[32m━━━━━━━━━━━━━━━━━━━━\u001b[0m\u001b[37m\u001b[0m \u001b[1m1s\u001b[0m 4ms/step - accuracy: 0.4967 - loss: 2.0823 - val_accuracy: 0.5017 - val_loss: 2.3271\n",
            "Epoch 16/50\n",
            "\u001b[1m219/219\u001b[0m \u001b[32m━━━━━━━━━━━━━━━━━━━━\u001b[0m\u001b[37m\u001b[0m \u001b[1m1s\u001b[0m 4ms/step - accuracy: 0.5122 - loss: 2.1147 - val_accuracy: 0.5010 - val_loss: 0.9533\n",
            "Epoch 17/50\n",
            "\u001b[1m219/219\u001b[0m \u001b[32m━━━━━━━━━━━━━━━━━━━━\u001b[0m\u001b[37m\u001b[0m \u001b[1m1s\u001b[0m 5ms/step - accuracy: 0.5036 - loss: 1.3649 - val_accuracy: 0.4947 - val_loss: 1.9171\n",
            "Epoch 18/50\n",
            "\u001b[1m219/219\u001b[0m \u001b[32m━━━━━━━━━━━━━━━━━━━━\u001b[0m\u001b[37m\u001b[0m \u001b[1m1s\u001b[0m 6ms/step - accuracy: 0.5071 - loss: 1.3561 - val_accuracy: 0.5050 - val_loss: 1.3861\n",
            "Epoch 19/50\n",
            "\u001b[1m219/219\u001b[0m \u001b[32m━━━━━━━━━━━━━━━━━━━━\u001b[0m\u001b[37m\u001b[0m \u001b[1m2s\u001b[0m 4ms/step - accuracy: 0.4933 - loss: 3.1711 - val_accuracy: 0.4923 - val_loss: 2.0052\n",
            "Epoch 20/50\n",
            "\u001b[1m219/219\u001b[0m \u001b[32m━━━━━━━━━━━━━━━━━━━━\u001b[0m\u001b[37m\u001b[0m \u001b[1m1s\u001b[0m 4ms/step - accuracy: 0.5136 - loss: 2.2649 - val_accuracy: 0.4987 - val_loss: 1.9367\n",
            "Epoch 21/50\n",
            "\u001b[1m219/219\u001b[0m \u001b[32m━━━━━━━━━━━━━━━━━━━━\u001b[0m\u001b[37m\u001b[0m \u001b[1m1s\u001b[0m 4ms/step - accuracy: 0.5072 - loss: 2.1453 - val_accuracy: 0.4930 - val_loss: 0.9628\n",
            "Epoch 22/50\n",
            "\u001b[1m219/219\u001b[0m \u001b[32m━━━━━━━━━━━━━━━━━━━━\u001b[0m\u001b[37m\u001b[0m \u001b[1m1s\u001b[0m 4ms/step - accuracy: 0.5019 - loss: 1.6303 - val_accuracy: 0.4873 - val_loss: 0.8332\n",
            "Epoch 23/50\n",
            "\u001b[1m219/219\u001b[0m \u001b[32m━━━━━━━━━━━━━━━━━━━━\u001b[0m\u001b[37m\u001b[0m \u001b[1m1s\u001b[0m 4ms/step - accuracy: 0.5058 - loss: 1.3269 - val_accuracy: 0.4983 - val_loss: 1.2089\n",
            "Epoch 24/50\n",
            "\u001b[1m219/219\u001b[0m \u001b[32m━━━━━━━━━━━━━━━━━━━━\u001b[0m\u001b[37m\u001b[0m \u001b[1m1s\u001b[0m 3ms/step - accuracy: 0.4994 - loss: 1.4478 - val_accuracy: 0.4990 - val_loss: 1.3787\n",
            "Epoch 25/50\n",
            "\u001b[1m219/219\u001b[0m \u001b[32m━━━━━━━━━━━━━━━━━━━━\u001b[0m\u001b[37m\u001b[0m \u001b[1m1s\u001b[0m 4ms/step - accuracy: 0.4971 - loss: 2.0860 - val_accuracy: 0.4960 - val_loss: 1.1824\n",
            "Epoch 26/50\n",
            "\u001b[1m219/219\u001b[0m \u001b[32m━━━━━━━━━━━━━━━━━━━━\u001b[0m\u001b[37m\u001b[0m \u001b[1m2s\u001b[0m 6ms/step - accuracy: 0.5022 - loss: 1.3157 - val_accuracy: 0.4897 - val_loss: 1.0218\n",
            "Epoch 27/50\n",
            "\u001b[1m219/219\u001b[0m \u001b[32m━━━━━━━━━━━━━━━━━━━━\u001b[0m\u001b[37m\u001b[0m \u001b[1m2s\u001b[0m 4ms/step - accuracy: 0.4850 - loss: 1.9827 - val_accuracy: 0.4940 - val_loss: 0.8523\n",
            "Epoch 28/50\n",
            "\u001b[1m219/219\u001b[0m \u001b[32m━━━━━━━━━━━━━━━━━━━━\u001b[0m\u001b[37m\u001b[0m \u001b[1m1s\u001b[0m 3ms/step - accuracy: 0.5213 - loss: 1.3564 - val_accuracy: 0.5093 - val_loss: 1.0370\n",
            "Epoch 29/50\n",
            "\u001b[1m219/219\u001b[0m \u001b[32m━━━━━━━━━━━━━━━━━━━━\u001b[0m\u001b[37m\u001b[0m \u001b[1m1s\u001b[0m 4ms/step - accuracy: 0.4960 - loss: 1.8902 - val_accuracy: 0.5043 - val_loss: 2.5847\n",
            "Epoch 30/50\n",
            "\u001b[1m219/219\u001b[0m \u001b[32m━━━━━━━━━━━━━━━━━━━━\u001b[0m\u001b[37m\u001b[0m \u001b[1m1s\u001b[0m 5ms/step - accuracy: 0.4936 - loss: 1.7892 - val_accuracy: 0.5040 - val_loss: 2.5332\n",
            "Epoch 31/50\n",
            "\u001b[1m219/219\u001b[0m \u001b[32m━━━━━━━━━━━━━━━━━━━━\u001b[0m\u001b[37m\u001b[0m \u001b[1m1s\u001b[0m 3ms/step - accuracy: 0.5109 - loss: 1.9081 - val_accuracy: 0.4963 - val_loss: 1.0920\n",
            "Epoch 32/50\n",
            "\u001b[1m219/219\u001b[0m \u001b[32m━━━━━━━━━━━━━━━━━━━━\u001b[0m\u001b[37m\u001b[0m \u001b[1m1s\u001b[0m 3ms/step - accuracy: 0.5092 - loss: 1.0644 - val_accuracy: 0.4957 - val_loss: 1.1556\n",
            "Epoch 33/50\n",
            "\u001b[1m219/219\u001b[0m \u001b[32m━━━━━━━━━━━━━━━━━━━━\u001b[0m\u001b[37m\u001b[0m \u001b[1m1s\u001b[0m 4ms/step - accuracy: 0.5018 - loss: 1.4007 - val_accuracy: 0.5043 - val_loss: 0.9258\n",
            "Epoch 34/50\n",
            "\u001b[1m219/219\u001b[0m \u001b[32m━━━━━━━━━━━━━━━━━━━━\u001b[0m\u001b[37m\u001b[0m \u001b[1m1s\u001b[0m 4ms/step - accuracy: 0.5219 - loss: 1.1323 - val_accuracy: 0.5117 - val_loss: 1.0407\n",
            "Epoch 35/50\n",
            "\u001b[1m219/219\u001b[0m \u001b[32m━━━━━━━━━━━━━━━━━━━━\u001b[0m\u001b[37m\u001b[0m \u001b[1m1s\u001b[0m 4ms/step - accuracy: 0.4945 - loss: 1.2191 - val_accuracy: 0.4923 - val_loss: 0.9038\n",
            "Epoch 36/50\n",
            "\u001b[1m219/219\u001b[0m \u001b[32m━━━━━━━━━━━━━━━━━━━━\u001b[0m\u001b[37m\u001b[0m \u001b[1m2s\u001b[0m 5ms/step - accuracy: 0.5165 - loss: 1.0743 - val_accuracy: 0.4950 - val_loss: 1.5066\n",
            "Epoch 37/50\n",
            "\u001b[1m219/219\u001b[0m \u001b[32m━━━━━━━━━━━━━━━━━━━━\u001b[0m\u001b[37m\u001b[0m \u001b[1m2s\u001b[0m 7ms/step - accuracy: 0.5065 - loss: 1.6774 - val_accuracy: 0.5037 - val_loss: 4.5703\n",
            "Epoch 38/50\n",
            "\u001b[1m219/219\u001b[0m \u001b[32m━━━━━━━━━━━━━━━━━━━━\u001b[0m\u001b[37m\u001b[0m \u001b[1m1s\u001b[0m 4ms/step - accuracy: 0.5079 - loss: 1.7170 - val_accuracy: 0.4943 - val_loss: 1.8814\n",
            "Epoch 39/50\n",
            "\u001b[1m219/219\u001b[0m \u001b[32m━━━━━━━━━━━━━━━━━━━━\u001b[0m\u001b[37m\u001b[0m \u001b[1m1s\u001b[0m 3ms/step - accuracy: 0.5017 - loss: 1.4351 - val_accuracy: 0.5067 - val_loss: 0.8394\n",
            "Epoch 40/50\n",
            "\u001b[1m219/219\u001b[0m \u001b[32m━━━━━━━━━━━━━━━━━━━━\u001b[0m\u001b[37m\u001b[0m \u001b[1m2s\u001b[0m 5ms/step - accuracy: 0.5205 - loss: 1.2111 - val_accuracy: 0.4943 - val_loss: 1.2009\n",
            "Epoch 41/50\n",
            "\u001b[1m219/219\u001b[0m \u001b[32m━━━━━━━━━━━━━━━━━━━━\u001b[0m\u001b[37m\u001b[0m \u001b[1m1s\u001b[0m 4ms/step - accuracy: 0.4983 - loss: 1.1843 - val_accuracy: 0.4940 - val_loss: 1.1487\n",
            "Epoch 42/50\n",
            "\u001b[1m219/219\u001b[0m \u001b[32m━━━━━━━━━━━━━━━━━━━━\u001b[0m\u001b[37m\u001b[0m \u001b[1m1s\u001b[0m 4ms/step - accuracy: 0.5093 - loss: 1.1653 - val_accuracy: 0.4993 - val_loss: 1.2783\n",
            "Epoch 43/50\n",
            "\u001b[1m219/219\u001b[0m \u001b[32m━━━━━━━━━━━━━━━━━━━━\u001b[0m\u001b[37m\u001b[0m \u001b[1m1s\u001b[0m 4ms/step - accuracy: 0.5133 - loss: 1.0856 - val_accuracy: 0.5010 - val_loss: 0.8165\n",
            "Epoch 44/50\n",
            "\u001b[1m219/219\u001b[0m \u001b[32m━━━━━━━━━━━━━━━━━━━━\u001b[0m\u001b[37m\u001b[0m \u001b[1m2s\u001b[0m 5ms/step - accuracy: 0.5086 - loss: 1.2750 - val_accuracy: 0.5067 - val_loss: 1.4182\n",
            "Epoch 45/50\n",
            "\u001b[1m219/219\u001b[0m \u001b[32m━━━━━━━━━━━━━━━━━━━━\u001b[0m\u001b[37m\u001b[0m \u001b[1m2s\u001b[0m 9ms/step - accuracy: 0.4856 - loss: 1.4266 - val_accuracy: 0.4950 - val_loss: 3.4235\n",
            "Epoch 46/50\n",
            "\u001b[1m219/219\u001b[0m \u001b[32m━━━━━━━━━━━━━━━━━━━━\u001b[0m\u001b[37m\u001b[0m \u001b[1m1s\u001b[0m 5ms/step - accuracy: 0.5051 - loss: 1.7982 - val_accuracy: 0.4997 - val_loss: 2.2039\n",
            "Epoch 47/50\n",
            "\u001b[1m219/219\u001b[0m \u001b[32m━━━━━━━━━━━━━━━━━━━━\u001b[0m\u001b[37m\u001b[0m \u001b[1m1s\u001b[0m 3ms/step - accuracy: 0.5131 - loss: 1.4295 - val_accuracy: 0.5063 - val_loss: 0.8765\n",
            "Epoch 48/50\n",
            "\u001b[1m219/219\u001b[0m \u001b[32m━━━━━━━━━━━━━━━━━━━━\u001b[0m\u001b[37m\u001b[0m \u001b[1m1s\u001b[0m 4ms/step - accuracy: 0.5081 - loss: 1.0508 - val_accuracy: 0.5050 - val_loss: 0.7349\n",
            "Epoch 49/50\n",
            "\u001b[1m219/219\u001b[0m \u001b[32m━━━━━━━━━━━━━━━━━━━━\u001b[0m\u001b[37m\u001b[0m \u001b[1m1s\u001b[0m 4ms/step - accuracy: 0.5154 - loss: 0.9434 - val_accuracy: 0.4903 - val_loss: 0.9365\n",
            "Epoch 50/50\n",
            "\u001b[1m219/219\u001b[0m \u001b[32m━━━━━━━━━━━━━━━━━━━━\u001b[0m\u001b[37m\u001b[0m \u001b[1m1s\u001b[0m 4ms/step - accuracy: 0.5099 - loss: 1.1811 - val_accuracy: 0.4973 - val_loss: 0.7860\n",
            "\u001b[1m94/94\u001b[0m \u001b[32m━━━━━━━━━━━━━━━━━━━━\u001b[0m\u001b[37m\u001b[0m \u001b[1m0s\u001b[0m 2ms/step - accuracy: 0.4963 - loss: 0.7926\n",
            "Test Accuracy: 49.73%\n"
          ]
        }
      ]
    },
    {
      "cell_type": "code",
      "source": [
        "#the above accuracy proves that the given data is not enough so as to predict the any family history of diabetes\n",
        "import seaborn as sns\n",
        "import matplotlib.pyplot as plt\n",
        "\n",
        "# Plot the distribution of the target\n",
        "sns.countplot(x='Family_History_of_Diabetes', data=df)\n",
        "plt.title('Target Class Distribution')\n",
        "plt.show()\n",
        "\n",
        "# Also print counts\n",
        "print(df['Family_History_of_Diabetes'].value_counts())\n",
        "\n",
        "#here 0 means no family history and 1 means there is family history o#f diabetes\n"
      ],
      "metadata": {
        "colab": {
          "base_uri": "https://localhost:8080/",
          "height": 544
        },
        "id": "FP22i8Nk1-ot",
        "outputId": "6d094db0-fa49-44a4-9554-2ce0de721a5c"
      },
      "execution_count": 27,
      "outputs": [
        {
          "output_type": "display_data",
          "data": {
            "text/plain": [
              "<Figure size 640x480 with 1 Axes>"
            ],
            "image/png": "[encoded data removed]"
          },
          "metadata": {}
        },
        {
          "output_type": "stream",
          "name": "stdout",
          "text": [
            "Family_History_of_Diabetes\n",
            "1    5070\n",
            "0    4930\n",
            "Name: count, dtype: int64\n"
          ]
        }
      ]
    },
    {
      "cell_type": "code",
      "source": [
        "#lets try XGBoost and try to find the accuracy (endemble learning)\n",
        "from xgboost import XGBClassifier\n",
        "\n",
        "xgb_model = XGBClassifier(n_estimators=100, learning_rate=0.1, random_state=42)\n",
        "xgb_model.fit(X_train, y_train)  # Use SMOTE data\n",
        "\n",
        "# Predict and evaluate\n",
        "from sklearn.metrics import accuracy_score\n",
        "\n",
        "y_pred = xgb_model.predict(X_test)\n",
        "accuracy = accuracy_score(y_test, y_pred)\n",
        "\n",
        "print(f\"Test Accuracy: {accuracy*100:.2f}%\")\n"
      ],
      "metadata": {
        "colab": {
          "base_uri": "https://localhost:8080/"
        },
        "id": "fz13gYbh2iDJ",
        "outputId": "fb0f8aa8-9995-4bb8-ab44-2221b90388f7"
      },
      "execution_count": 31,
      "outputs": [
        {
          "output_type": "stream",
          "name": "stdout",
          "text": [
            "Test Accuracy: 51.00%\n"
          ]
        }
      ]
    },
    {
      "cell_type": "code",
      "source": [
        "#code for feature importance using XGBoost classifier\n",
        "import numpy as np\n",
        "\n",
        "# Fit the model again to get feature importance (Assuming X_train_smote is already defined)\n",
        "model = XGBClassifier(random_state=42)\n",
        "model.fit(X_train_smote, y_train_smote)\n",
        "\n",
        "# Get feature importance\n",
        "importance = model.feature_importances_\n",
        "\n",
        "# Create a DataFrame for easier visualization\n",
        "feature_importance_df = pd.DataFrame({\n",
        "    'Feature': X_train.columns,\n",
        "    'Importance': importance\n",
        "})\n",
        "\n",
        "# Sort the features by importance\n",
        "feature_importance_df = feature_importance_df.sort_values(by='Importance', ascending=False)\n",
        "\n",
        "# Plot the top features\n",
        "plt.figure(figsize=(10, 6))\n",
        "sns.barplot(x='Importance', y='Feature', data=feature_importance_df)\n",
        "plt.title('Feature Importance')\n",
        "plt.show()\n",
        "\n",
        "# Print the top features\n",
        "print(feature_importance_df.head())\n"
      ],
      "metadata": {
        "colab": {
          "base_uri": "https://localhost:8080/",
          "height": 643
        },
        "id": "9BTVzheV3TGZ",
        "outputId": "9350b845-a210-4644-91c8-0773c9f5d123"
      },
      "execution_count": 32,
      "outputs": [
        {
          "output_type": "display_data",
          "data": {
            "text/plain": [
              "<Figure size 1000x600 with 1 Axes>"
            ],
            "image/png": "[encoded data removed]"
          },
          "metadata": {}
        },
        {
          "output_type": "stream",
          "name": "stdout",
          "text": [
            "                         Feature  Importance\n",
            "18               Ethnicity_White    0.054222\n",
            "22         Smoking_Status_Former    0.051583\n",
            "19   Physical_Activity_Level_Low    0.048727\n",
            "21  Alcohol_Consumption_Moderate    0.045595\n",
            "16               Ethnicity_Black    0.044489\n"
          ]
        }
      ]
    },
    {
      "cell_type": "code",
      "source": [
        "import pandas as pd\n",
        "from sklearn.model_selection import train_test_split\n",
        "from sklearn.preprocessing import StandardScaler\n",
        "from sklearn.ensemble import RandomForestClassifier\n",
        "from sklearn.metrics import accuracy_score, classification_report, confusion_matrix\n",
        "import seaborn as sns\n",
        "\n",
        "# Encode categorical features (Assuming columns like 'Sex', 'Physical_Activity_Level', etc.)\n",
        "df = pd.get_dummies(df, drop_first=True)\n",
        "\n",
        "# Split the data into features (X) and target (y)\n",
        "X = df.drop(columns=['Family_History_of_Diabetes'])\n",
        "y = df['Family_History_of_Diabetes']\n",
        "\n",
        "# Split the dataset into training and testing sets\n",
        "X_train, X_test, y_train, y_test = train_test_split(X, y, test_size=0.3, random_state=42)\n",
        "\n",
        "# Standardize numerical features (if needed)\n",
        "scaler = StandardScaler()\n",
        "X_train_scaled = scaler.fit_transform(X_train)\n",
        "X_test_scaled = scaler.transform(X_test)\n",
        "\n",
        "# Initialize Random Forest model\n",
        "rf_model = RandomForestClassifier(n_estimators=100, random_state=42)\n",
        "\n",
        "# Train the model\n",
        "rf_model.fit(X_train_scaled, y_train)\n",
        "\n",
        "# Predictions on the test set\n",
        "y_pred = rf_model.predict(X_test_scaled)\n",
        "\n",
        "# Evaluate the model\n",
        "accuracy = accuracy_score(y_test, y_pred)\n",
        "print(f'Accuracy: {accuracy*100:.2f}%')\n",
        "\n",
        "# Detailed classification report\n",
        "print(\"Classification Report:\")\n",
        "print(classification_report(y_test, y_pred))\n",
        "\n",
        "# Confusion Matrix\n",
        "cm = confusion_matrix(y_test, y_pred)\n",
        "sns.heatmap(cm, annot=True, fmt='d', cmap='Blues', xticklabels=['No Diabetes', 'Has Diabetes'], yticklabels=['No Diabetes', 'Has Diabetes'])\n",
        "plt.title('Confusion Matrix')\n",
        "plt.xlabel('Predicted')\n",
        "plt.ylabel('Actual')\n",
        "plt.show()\n",
        "\n",
        "# Feature Importance\n",
        "feature_importances = rf_model.feature_importances_\n",
        "features = X.columns\n",
        "\n",
        "# Create a DataFrame for feature importance\n",
        "feature_importance_df = pd.DataFrame({\n",
        "    'Feature': features,\n",
        "    'Importance': feature_importances\n",
        "})\n",
        "\n",
        "# Sort the features by importance\n",
        "feature_importance_df = feature_importance_df.sort_values(by='Importance', ascending=False)\n",
        "\n",
        "# Display the top 10 important features\n",
        "print(\"Top 10 Important Features:\")\n",
        "print(feature_importance_df.head(10))\n",
        "\n",
        "# Plot Feature Importance\n",
        "plt.figure(figsize=(10, 6))\n",
        "sns.barplot(x='Importance', y='Feature', data=feature_importance_df.head(10))\n",
        "plt.title('Top 10 Feature Importances in Random Forest')\n",
        "plt.show()"
      ],
      "metadata": {
        "colab": {
          "base_uri": "https://localhost:8080/",
          "height": 1000
        },
        "id": "rFz-RCWL4DdC",
        "outputId": "fddeb1d9-c132-498a-e8cb-9a547e40ce18"
      },
      "execution_count": 34,
      "outputs": [
        {
          "output_type": "stream",
          "name": "stdout",
          "text": [
            "Accuracy: 50.13%\n",
            "Classification Report:\n",
            "              precision    recall  f1-score   support\n",
            "\n",
            "           0       0.51      0.48      0.49      1511\n",
            "           1       0.50      0.52      0.51      1489\n",
            "\n",
            "    accuracy                           0.50      3000\n",
            "   macro avg       0.50      0.50      0.50      3000\n",
            "weighted avg       0.50      0.50      0.50      3000\n",
            "\n"
          ]
        },
        {
          "output_type": "display_data",
          "data": {
            "text/plain": [
              "<Figure size 640x480 with 2 Axes>"
            ],
            "image/png": "[encoded data removed]"
          },
          "metadata": {}
        },
        {
          "output_type": "stream",
          "name": "stdout",
          "text": [
            "Top 10 Important Features:\n",
            "                    Feature  Importance\n",
            "0                Unnamed: 0    0.070324\n",
            "10          Cholesterol_LDL    0.069718\n",
            "11                      GGT    0.068804\n",
            "13  Dietary_Intake_Calories    0.068480\n",
            "3       Waist_Circumference    0.067811\n",
            "8         Cholesterol_Total    0.066868\n",
            "4     Fasting_Blood_Glucose    0.066417\n",
            "9           Cholesterol_HDL    0.066405\n",
            "2                       BMI    0.065177\n",
            "6   Blood_Pressure_Systolic    0.061343\n"
          ]
        },
        {
          "output_type": "display_data",
          "data": {
            "text/plain": [
              "<Figure size 1000x600 with 1 Axes>"
            ],
            "image/png": "[encoded data removed]"
          },
          "metadata": {}
        }
      ]
    },
    {
      "cell_type": "code",
      "source": [],
      "metadata": {
        "id": "psvyUnsF4o7z"
      },
      "execution_count": null,
      "outputs": []
    }
  ]
}